{
  "nbformat": 4,
  "nbformat_minor": 0,
  "metadata": {
    "colab": {
      "provenance": [],
      "gpuType": "T4",
      "authorship_tag": "ABX9TyPRVL9EsKv+DKCX7Nhhv84L",
      "include_colab_link": true
    },
    "kernelspec": {
      "name": "python3",
      "display_name": "Python 3"
    },
    "language_info": {
      "name": "python"
    },
    "accelerator": "GPU"
  },
  "cells": [
    {
      "cell_type": "markdown",
      "metadata": {
        "id": "view-in-github",
        "colab_type": "text"
      },
      "source": [
        "<a href=\"https://colab.research.google.com/github/xjdeng/textual_inversion_colab/blob/main/textual_inversion_colab.ipynb\" target=\"_parent\"><img src=\"https://colab.research.google.com/assets/colab-badge.svg\" alt=\"Open In Colab\"/></a>"
      ]
    },
    {
      "cell_type": "code",
      "execution_count": null,
      "metadata": {
        "cellView": "form",
        "id": "Zc_sxj0vbhkG"
      },
      "outputs": [],
      "source": [
        "#@title ### Config\n",
        "from google.colab import drive\n",
        "\n",
        "mount_drive = True\n",
        "\n",
        "# @markdown ## Most people will want to change these\n",
        "\n",
        "ti_name = \"\" # @param {\"type\":\"string\",\"placeholder\":\"(REQUIRED)\"}\n",
        "class_name = \"*\" # @param {\"type\":\"string\"}\n",
        "vectors = 5 # @param {\"type\":\"integer\"}\n",
        "image_dir = \"/content/textual_inversion_colab/dataset\" # @param {\"type\":\"string\"}\n",
        "output_dir = \"/content/drive/MyDrive/ti_output\" # @param {\"type\":\"string\"}\n",
        "\n",
        "\n",
        "\n",
        "# @markdown ## Some people may want to change these\n",
        "\n",
        "\n",
        "resize_images = True #@param {type: \"boolean\"}\n",
        "epochs = 1400 # @param {\"type\":\"integer\"}\n",
        "save_every_n_epochs = 700 # @param {\"type\":\"integer\"}\n",
        "batch_size = 6 # @param {\"type\":\"integer\"}\n",
        "learning_rate = 5.0e-04 # @param {\"type\":\"number\"}\n",
        "\n",
        "# @markdown ## Most people can safely ignore these\n",
        "\n",
        "gradient_accumulation = 1 # @param {\"type\":\"integer\"}\n",
        "huggingface_repo = \"xjdeng/stable-diffusion-1.5\" # @param {\"type\":\"string\"}\n",
        "\n",
        "if mount_drive:\n",
        "  drive.mount('/content/drive')\n"
      ]
    },
    {
      "cell_type": "code",
      "source": [
        "#@title ### Installation and Setup\n",
        "!git clone https://github.com/xjdeng/textual_inversion_colab\n",
        "!git clone https://github.com/huggingface/diffusers\n",
        "%cd diffusers\n",
        "!pip install .\n",
        "!pip install -r /content/diffusers/examples/textual_inversion/requirements.txt\n",
        "!pip install -r /content/textual_inversion_colab/requirements.txt\n",
        "!pip install -U xformers torchvision --index-url https://download.pytorch.org/whl/cu121\n",
        "%cd ../\n",
        "from path import Path as path\n",
        "if resize_images:\n",
        "  !git clone https://github.com/xjdeng/sd_tools\n",
        "  from sd_tools import imagetools\n",
        "  import cv2\n",
        "  DATA_DIR = f\"{image_dir}/resized\"\n",
        "  path(DATA_DIR).mkdir_p()\n",
        "  for f in path(image_dir).files():\n",
        "    f.copy(DATA_DIR)\n",
        "  for f in path(DATA_DIR).files():\n",
        "    img = cv2.imread(f)\n",
        "    if img is None:\n",
        "      continue\n",
        "    resized = imagetools.resize(img)\n",
        "    cv2.imwrite(f, resized)\n",
        "else:\n",
        "  DATA_DIR = image_dir\n",
        "\n",
        "path(output_dir).mkdir_p()\n",
        "%cd /content/textual_inversion_colab"
      ],
      "metadata": {
        "cellView": "form",
        "id": "Br23Aib0b-Sl"
      },
      "execution_count": null,
      "outputs": []
    },
    {
      "cell_type": "code",
      "source": [
        "#@title ### Training\n",
        "#MODEL_NAME=\"pt-sk/stable-diffusion-1.5\"\n",
        "placeholder = '\"<' + ti_name + '>\"'\n",
        "initializer = f'\"{class_name}\"'\n",
        "prompt = f'\"{ti_name}\"'\n",
        "exception = False\n",
        "model = f'\"{huggingface_repo}\"'\n",
        "try:\n",
        " !accelerate launch textual_inversion.py \\\n",
        "    --pretrained_model_name_or_path=$model \\\n",
        "    --train_data_dir=$DATA_DIR \\\n",
        "    --num_vectors=$vectors \\\n",
        "    --learnable_property=\"object\" \\\n",
        "    --placeholder_token=$placeholder\\\n",
        "    --initializer_token=$initializer \\\n",
        "    --resolution=512 \\\n",
        "    --train_batch_size=$batch_size \\\n",
        "    --gradient_accumulation_steps=$gradient_accumulation \\\n",
        "    --max_train_steps=$epochs \\\n",
        "    --checkpointing_steps=$save_every_n_epochs \\\n",
        "    --learning_rate=$learning_rate \\\n",
        "    --scale_lr \\\n",
        "    --lr_scheduler=\"constant\" \\\n",
        "    --lr_warmup_steps=0 \\\n",
        "    --output_dir=$output_dir \\\n",
        "    --enable_xformers_memory_efficient_attention \\\n",
        "    --num_validation_images 1 \\\n",
        "    --validation_prompt=$prompt\\\n",
        "    --resume_from_checkpoint=\"latest\"\n",
        "except Exception as e:\n",
        "  exception = True\n"
      ],
      "metadata": {
        "cellView": "form",
        "id": "8TeLn_KgcCSU"
      },
      "execution_count": null,
      "outputs": []
    },
    {
      "cell_type": "code",
      "source": [
        "#@title ### Shutdown\n",
        "import time\n",
        "if not exception:\n",
        "  rm1 = f\"{output_dir}/checkpoint*\"\n",
        "  !rm -rf $rm1\n",
        "  !rm -rf $rm2\n",
        "time.sleep(300)\n",
        "from google.colab import runtime\n",
        "runtime.unassign()"
      ],
      "metadata": {
        "id": "X1XmDhZkcEaY",
        "cellView": "form"
      },
      "execution_count": null,
      "outputs": []
    },
    {
      "cell_type": "code",
      "source": [],
      "metadata": {
        "id": "a23INFR1FP_f"
      },
      "execution_count": null,
      "outputs": []
    }
  ]
}